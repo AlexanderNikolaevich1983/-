{
  "cells": [
    {
      "cell_type": "markdown",
      "metadata": {
        "id": "view-in-github",
        "colab_type": "text"
      },
      "source": [
        "<a href=\"https://colab.research.google.com/github/AlexanderNikolaevich1983/-/blob/main/%D0%9A%D0%BE%D0%BF%D0%B8%D1%8F_%D0%B1%D0%BB%D0%BE%D0%BA%D0%BD%D0%BE%D1%82%D0%B0_%22Lecture_2_python_functions_classes_exceptions_ipynb%22.ipynb\" target=\"_parent\"><img src=\"https://colab.research.google.com/assets/colab-badge.svg\" alt=\"Open In Colab\"/></a>"
      ]
    },
    {
      "cell_type": "markdown",
      "id": "6f254540",
      "metadata": {
        "id": "6f254540"
      },
      "source": [
        "# Функції\n",
        "\n",
        "Ми вже бачили кілька визначених функцій, але давайте копнемо трохи глибше. Функції в Python дуже інтуїтивно зрозумілі. Почнемо з прикладу функції без параметрів:"
      ]
    },
    {
      "cell_type": "code",
      "execution_count": null,
      "id": "0156e4ff",
      "metadata": {
        "ExecuteTime": {
          "end_time": "2022-10-20T20:44:29.551779Z",
          "start_time": "2022-10-20T20:44:29.548031Z"
        },
        "id": "0156e4ff"
      },
      "outputs": [],
      "source": [
        "# декларація функції\n",
        "def hello():\n",
        "    # тіло функції\n",
        "    a = 10\n",
        "    # те, що поверне функція\n",
        "    return \"This is my first function!\""
      ]
    },
    {
      "cell_type": "markdown",
      "id": "8b311455",
      "metadata": {
        "id": "8b311455"
      },
      "source": [
        "Ключове слово `def` вказує на _визначення_ функції, за яким слідують ім’я та список аргументів (які ця функція не отримує). Інструкція `return` використовується, щоб перервати потік функції та повернути значення тому, хто цю функцію викликав:"
      ]
    },
    {
      "cell_type": "code",
      "execution_count": null,
      "id": "672c3d57",
      "metadata": {
        "ExecuteTime": {
          "end_time": "2022-10-20T20:44:31.534352Z",
          "start_time": "2022-10-20T20:44:31.522896Z"
        },
        "id": "672c3d57",
        "colab": {
          "base_uri": "https://localhost:8080/",
          "height": 35
        },
        "outputId": "4eac54b1-f77b-4e21-a90f-9578bf53b377"
      },
      "outputs": [
        {
          "output_type": "execute_result",
          "data": {
            "text/plain": [
              "'This is my first function!'"
            ],
            "application/vnd.google.colaboratory.intrinsic+json": {
              "type": "string"
            }
          },
          "metadata": {},
          "execution_count": 3
        }
      ],
      "source": [
        "# виклик функції\n",
        "hello()"
      ]
    },
    {
      "cell_type": "markdown",
      "id": "63a4054c",
      "metadata": {
        "id": "63a4054c"
      },
      "source": [
        "Якщо функція явно не включає оператор `return`, Python за умовчанням поверне `None`:"
      ]
    },
    {
      "cell_type": "code",
      "execution_count": null,
      "id": "6e7a48dc",
      "metadata": {
        "ExecuteTime": {
          "end_time": "2022-10-20T20:45:21.536044Z",
          "start_time": "2022-10-20T20:45:21.532886Z"
        },
        "id": "6e7a48dc"
      },
      "outputs": [],
      "source": [
        "def empty():\n",
        "    x = 3"
      ]
    },
    {
      "cell_type": "code",
      "execution_count": null,
      "id": "e623e636",
      "metadata": {
        "ExecuteTime": {
          "end_time": "2022-10-20T20:45:25.723268Z",
          "start_time": "2022-10-20T20:45:25.720222Z"
        },
        "id": "e623e636"
      },
      "outputs": [],
      "source": [
        "result = empty()\n",
        "print(result)"
      ]
    },
    {
      "cell_type": "markdown",
      "id": "65b32fb4",
      "metadata": {
        "id": "65b32fb4"
      },
      "source": [
        "Те саме буде якщо ми додамо інструкцію `return` без значення, яке ми хочемо повернути."
      ]
    },
    {
      "cell_type": "code",
      "execution_count": null,
      "id": "da0443fa",
      "metadata": {
        "ExecuteTime": {
          "end_time": "2022-10-20T20:45:52.149728Z",
          "start_time": "2022-10-20T20:45:52.146992Z"
        },
        "id": "da0443fa"
      },
      "outputs": [],
      "source": [
        "def empty():\n",
        "    x = 3\n",
        "    return"
      ]
    },
    {
      "cell_type": "code",
      "execution_count": null,
      "id": "0b37c899",
      "metadata": {
        "ExecuteTime": {
          "end_time": "2022-10-20T20:46:06.972042Z",
          "start_time": "2022-10-20T20:46:06.968101Z"
        },
        "id": "0b37c899"
      },
      "outputs": [],
      "source": [
        "result = empty()\n",
        "result == None"
      ]
    },
    {
      "cell_type": "markdown",
      "id": "58024387",
      "metadata": {
        "id": "58024387"
      },
      "source": [
        "## Параметри функцій\n",
        "\n",
        "З параметрами в Python можна зробити багато чого; включаючи визначення дефолтних (за замовченням) значень параметрів та передачу іменованих параметрів. Також параметри бувають змінні і динамічні. Але поки що ми зосередимося лише на основах. Параметри функції перераховані у визначенні функції, і вони є частиною локальної області видимості функції:"
      ]
    },
    {
      "cell_type": "code",
      "execution_count": null,
      "id": "2dd525dd",
      "metadata": {
        "ExecuteTime": {
          "end_time": "2022-10-20T20:47:08.772749Z",
          "start_time": "2022-10-20T20:47:08.768842Z"
        },
        "id": "2dd525dd"
      },
      "outputs": [],
      "source": [
        "def add(x, y):\n",
        "    return x + y"
      ]
    },
    {
      "cell_type": "code",
      "execution_count": null,
      "id": "ab449776",
      "metadata": {
        "ExecuteTime": {
          "end_time": "2022-10-20T20:49:08.949969Z",
          "start_time": "2022-10-20T20:49:08.945559Z"
        },
        "id": "ab449776"
      },
      "outputs": [],
      "source": [
        "# передаємо аргументи функції\n",
        "foo = 31\n",
        "bar = 42\n",
        "add(foo, bar)"
      ]
    },
    {
      "cell_type": "markdown",
      "id": "0ee8b500",
      "metadata": {
        "ExecuteTime": {
          "end_time": "2022-10-20T10:22:37.320923Z",
          "start_time": "2022-10-20T10:22:37.289385Z"
        },
        "id": "0ee8b500"
      },
      "source": [
        "Що відбувалось можемо прослідкувати у [візуалізаторі](https://pythontutor.com/render.html#code=def%20add%28x,%20y%29%3A%0A%20%20%20%20return%20x%20%2B%20y%0A%20%20%20%20%0Aresult%20%3D%20add%282,%203%29%0Aprint%28result%29&cumulative=false&curInstr=6&heapPrimitives=false&mode=display&origin=opt-frontend.js&py=3&rawInputLstJSON=%5B%5D&textReferences=false)."
      ]
    },
    {
      "cell_type": "markdown",
      "id": "79dcf8a7",
      "metadata": {
        "ExecuteTime": {
          "end_time": "2022-10-20T11:40:29.575667Z",
          "start_time": "2022-10-20T11:40:29.572687Z"
        },
        "id": "79dcf8a7"
      },
      "source": [
        "### Анотації типів"
      ]
    },
    {
      "cell_type": "markdown",
      "id": "f09b139c",
      "metadata": {
        "ExecuteTime": {
          "end_time": "2022-10-20T12:42:13.280579Z",
          "start_time": "2022-10-20T12:42:13.248110Z"
        },
        "id": "f09b139c"
      },
      "source": [
        "Доступно починаючи з Python 3.5."
      ]
    },
    {
      "cell_type": "markdown",
      "id": "7ea26e44",
      "metadata": {
        "ExecuteTime": {
          "end_time": "2022-10-20T11:41:02.357160Z",
          "start_time": "2022-10-20T11:41:02.348952Z"
        },
        "id": "7ea26e44"
      },
      "source": [
        "Ми можемо визначати типи як параметрів, так і значення, яке вертає функція - це поліпшує легкість її використання, адже часто ми використовуємо функції як black box:"
      ]
    },
    {
      "cell_type": "code",
      "execution_count": null,
      "id": "3be517cf",
      "metadata": {
        "ExecuteTime": {
          "end_time": "2022-10-20T20:53:42.120829Z",
          "start_time": "2022-10-20T20:53:42.116506Z"
        },
        "id": "3be517cf",
        "colab": {
          "base_uri": "https://localhost:8080/"
        },
        "outputId": "f94e9fa5-f2e0-451c-9fa4-2b3277b4e456"
      },
      "outputs": [
        {
          "output_type": "stream",
          "name": "stdout",
          "text": [
            "Object `add` not found.\n"
          ]
        }
      ],
      "source": [
        "?add"
      ]
    },
    {
      "cell_type": "code",
      "execution_count": null,
      "id": "a7577355",
      "metadata": {
        "ExecuteTime": {
          "end_time": "2022-10-20T20:55:32.981192Z",
          "start_time": "2022-10-20T20:55:32.978336Z"
        },
        "id": "a7577355"
      },
      "outputs": [],
      "source": [
        "def add(x: int, y: int) -> int:\n",
        "    \"\"\"\n",
        "    Example of docstring.\n",
        "    Adds two numbers.\n",
        "\n",
        "    :param x: first argument\n",
        "    :param y: second argument\n",
        "\n",
        "    :returns: sum of arguments\n",
        "    \"\"\"\n",
        "    return x + y"
      ]
    },
    {
      "cell_type": "markdown",
      "id": "70e82d04",
      "metadata": {
        "id": "70e82d04"
      },
      "source": [
        "Невеличкий офтоп - найбільш вживані типи докстрінгів - які і як вони виглядають: https://stackoverflow.com/a/24385103"
      ]
    },
    {
      "cell_type": "markdown",
      "id": "0f753b67",
      "metadata": {
        "ExecuteTime": {
          "end_time": "2022-10-20T11:42:40.572478Z",
          "start_time": "2022-10-20T11:42:40.568134Z"
        },
        "id": "0f753b67"
      },
      "source": [
        "Вказання типів не впливає на функціонал: ми все ще можемо передати неправильні типи. Але полегшує розуміння інтерфейсу функції:"
      ]
    },
    {
      "cell_type": "code",
      "execution_count": null,
      "id": "f9b1a149",
      "metadata": {
        "ExecuteTime": {
          "end_time": "2022-10-20T20:55:45.643550Z",
          "start_time": "2022-10-20T20:55:45.639027Z"
        },
        "id": "f9b1a149"
      },
      "outputs": [],
      "source": [
        "?add"
      ]
    },
    {
      "cell_type": "markdown",
      "id": "84fb5696",
      "metadata": {
        "ExecuteTime": {
          "end_time": "2022-10-20T11:43:33.805412Z",
          "start_time": "2022-10-20T11:43:33.801900Z"
        },
        "id": "84fb5696"
      },
      "source": [
        "Аби перевірити тип даних, або будь-яке інше правило, яке нам дуже потрібно аби виконувалось, можемо використати інструкцію `assert`:"
      ]
    },
    {
      "cell_type": "code",
      "execution_count": null,
      "id": "1e63cda8",
      "metadata": {
        "ExecuteTime": {
          "end_time": "2022-10-20T21:00:50.002884Z",
          "start_time": "2022-10-20T21:00:49.997028Z"
        },
        "id": "1e63cda8"
      },
      "outputs": [],
      "source": [
        "x = 'abc'"
      ]
    },
    {
      "cell_type": "code",
      "execution_count": null,
      "id": "917451f1",
      "metadata": {
        "ExecuteTime": {
          "end_time": "2022-10-20T21:01:24.263499Z",
          "start_time": "2022-10-20T21:01:24.241564Z"
        },
        "id": "917451f1"
      },
      "outputs": [],
      "source": [
        "assert type(x) == int"
      ]
    },
    {
      "cell_type": "markdown",
      "id": "7af77c5c",
      "metadata": {
        "ExecuteTime": {
          "end_time": "2022-10-20T11:44:21.653520Z",
          "start_time": "2022-10-20T11:44:21.650041Z"
        },
        "id": "7af77c5c"
      },
      "source": [
        "Використання в функції:"
      ]
    },
    {
      "cell_type": "code",
      "execution_count": null,
      "id": "1df197b9",
      "metadata": {
        "ExecuteTime": {
          "end_time": "2022-10-20T21:01:48.003756Z",
          "start_time": "2022-10-20T21:01:48.000287Z"
        },
        "id": "1df197b9"
      },
      "outputs": [],
      "source": [
        "def add(x: int, y: int) -> int:\n",
        "    assert type(x) == int and type(y) == int\n",
        "    return x + y"
      ]
    },
    {
      "cell_type": "code",
      "execution_count": null,
      "id": "1d5d4c2c",
      "metadata": {
        "ExecuteTime": {
          "end_time": "2022-10-20T21:02:00.828216Z",
          "start_time": "2022-10-20T21:02:00.822831Z"
        },
        "id": "1d5d4c2c"
      },
      "outputs": [],
      "source": [
        "add(14, 15)"
      ]
    },
    {
      "cell_type": "code",
      "execution_count": null,
      "id": "1bb71bed",
      "metadata": {
        "ExecuteTime": {
          "end_time": "2022-10-20T21:04:35.475416Z",
          "start_time": "2022-10-20T21:04:35.472598Z"
        },
        "id": "1bb71bed"
      },
      "outputs": [],
      "source": [
        "x = '15'"
      ]
    },
    {
      "cell_type": "code",
      "execution_count": null,
      "id": "11979370",
      "metadata": {
        "ExecuteTime": {
          "end_time": "2022-10-20T21:04:35.852656Z",
          "start_time": "2022-10-20T21:04:35.848406Z"
        },
        "id": "11979370"
      },
      "outputs": [],
      "source": [
        "if isinstance(x, int):\n",
        "    x = x + 1\n",
        "elif isinstance(x, str):\n",
        "    x = int(x) + 1"
      ]
    },
    {
      "cell_type": "markdown",
      "id": "b69507a1",
      "metadata": {
        "id": "b69507a1"
      },
      "source": [
        "### Значення параметрів за замовченням"
      ]
    },
    {
      "cell_type": "markdown",
      "id": "6661d691",
      "metadata": {
        "ExecuteTime": {
          "end_time": "2022-10-20T11:28:19.757378Z",
          "start_time": "2022-10-20T11:28:19.751987Z"
        },
        "id": "6661d691"
      },
      "source": [
        "У параметрів функції може бути значення за замовченням:"
      ]
    },
    {
      "cell_type": "code",
      "execution_count": null,
      "id": "fcab85de",
      "metadata": {
        "ExecuteTime": {
          "end_time": "2022-10-20T21:05:01.809666Z",
          "start_time": "2022-10-20T21:05:01.806627Z"
        },
        "id": "fcab85de"
      },
      "outputs": [],
      "source": [
        "def concat(name='John', surname='Johnson'):\n",
        "    return name + ' ' + surname"
      ]
    },
    {
      "cell_type": "markdown",
      "id": "e8eefcd7",
      "metadata": {
        "ExecuteTime": {
          "end_time": "2022-10-20T11:29:15.122807Z",
          "start_time": "2022-10-20T11:29:15.116527Z"
        },
        "id": "e8eefcd7"
      },
      "source": [
        "Тоді навіть якщо ми не передали аргументів, функція відпрацює."
      ]
    },
    {
      "cell_type": "code",
      "execution_count": null,
      "id": "bc994106",
      "metadata": {
        "ExecuteTime": {
          "end_time": "2022-10-20T22:30:17.911965Z",
          "start_time": "2022-10-20T22:30:17.887731Z"
        },
        "id": "bc994106"
      },
      "outputs": [],
      "source": [
        "concat()"
      ]
    },
    {
      "cell_type": "markdown",
      "id": "aa1c04c4",
      "metadata": {
        "ExecuteTime": {
          "end_time": "2022-10-20T11:47:16.537509Z",
          "start_time": "2022-10-20T11:47:16.534565Z"
        },
        "id": "aa1c04c4"
      },
      "source": [
        "Але параметри зі значенням за замовченням завжди ідуть після параметрів без значень за замовченням:"
      ]
    },
    {
      "cell_type": "code",
      "execution_count": null,
      "id": "38b0ba40",
      "metadata": {
        "ExecuteTime": {
          "end_time": "2022-10-20T21:05:52.285446Z",
          "start_time": "2022-10-20T21:05:52.281028Z"
        },
        "scrolled": true,
        "id": "38b0ba40"
      },
      "outputs": [],
      "source": [
        "def foo(a=15, b=10, c):\n",
        "    return a + b + c"
      ]
    },
    {
      "cell_type": "code",
      "execution_count": null,
      "id": "19060dd7",
      "metadata": {
        "ExecuteTime": {
          "end_time": "2022-10-20T21:06:11.605742Z",
          "start_time": "2022-10-20T21:06:11.602971Z"
        },
        "id": "19060dd7"
      },
      "outputs": [],
      "source": [
        "def foo(c, a=15, b=10):\n",
        "    return a + b + c"
      ]
    },
    {
      "cell_type": "code",
      "execution_count": null,
      "id": "c143f529",
      "metadata": {
        "ExecuteTime": {
          "end_time": "2022-10-20T21:06:15.414380Z",
          "start_time": "2022-10-20T21:06:15.410083Z"
        },
        "id": "c143f529"
      },
      "outputs": [],
      "source": [
        "foo(1)"
      ]
    },
    {
      "cell_type": "markdown",
      "id": "c01cdf5d",
      "metadata": {
        "ExecuteTime": {
          "end_time": "2022-10-20T11:46:06.098441Z",
          "start_time": "2022-10-20T11:46:06.096140Z"
        },
        "id": "c01cdf5d"
      },
      "source": [
        "### Звернення до параметрів за іменем"
      ]
    },
    {
      "cell_type": "markdown",
      "id": "89ffb480",
      "metadata": {
        "id": "89ffb480"
      },
      "source": [
        "До параметрів можна звертатись за іменем в довільному порядку:"
      ]
    },
    {
      "cell_type": "code",
      "execution_count": null,
      "id": "cdc6a9b7",
      "metadata": {
        "ExecuteTime": {
          "end_time": "2022-10-20T22:30:26.389188Z",
          "start_time": "2022-10-20T22:30:26.377479Z"
        },
        "id": "cdc6a9b7"
      },
      "outputs": [],
      "source": [
        "surname = 'Holmes'\n",
        "concat(surname=surname, name='Sherlock')"
      ]
    },
    {
      "cell_type": "markdown",
      "id": "102854a2",
      "metadata": {
        "id": "102854a2"
      },
      "source": [
        "Але отак не можна:"
      ]
    },
    {
      "cell_type": "code",
      "execution_count": null,
      "id": "df965f05",
      "metadata": {
        "ExecuteTime": {
          "end_time": "2022-10-20T22:30:38.932783Z",
          "start_time": "2022-10-20T22:30:38.906625Z"
        },
        "id": "df965f05"
      },
      "outputs": [],
      "source": [
        "concat(surname='Holmes', 'Sherlock')"
      ]
    },
    {
      "cell_type": "markdown",
      "id": "f74f44f6",
      "metadata": {
        "id": "f74f44f6"
      },
      "source": [
        "### Змінна кількість параметрів функції"
      ]
    },
    {
      "cell_type": "markdown",
      "id": "940a8287",
      "metadata": {
        "id": "940a8287"
      },
      "source": [
        "Ми також можемо визначити функції, які приймають змінну кількість аргументів, використовуючи `*args`:"
      ]
    },
    {
      "cell_type": "code",
      "execution_count": null,
      "id": "2ef036a8",
      "metadata": {
        "ExecuteTime": {
          "end_time": "2022-10-20T21:09:32.316023Z",
          "start_time": "2022-10-20T21:09:32.312543Z"
        },
        "id": "2ef036a8"
      },
      "outputs": [],
      "source": [
        "def add(*args):\n",
        "    return sum(args)"
      ]
    },
    {
      "cell_type": "code",
      "execution_count": null,
      "id": "deabca42",
      "metadata": {
        "ExecuteTime": {
          "end_time": "2022-10-20T21:10:23.903577Z",
          "start_time": "2022-10-20T21:10:23.899581Z"
        },
        "id": "deabca42"
      },
      "outputs": [],
      "source": [
        "add(*tuple(range(10)))"
      ]
    },
    {
      "cell_type": "code",
      "execution_count": null,
      "id": "300825ca",
      "metadata": {
        "ExecuteTime": {
          "end_time": "2022-10-20T08:43:44.385696Z",
          "start_time": "2022-10-20T08:43:44.381753Z"
        },
        "id": "300825ca"
      },
      "outputs": [],
      "source": [
        "add(1)"
      ]
    },
    {
      "cell_type": "markdown",
      "id": "b38134ab",
      "metadata": {
        "id": "b38134ab"
      },
      "source": [
        "Змінною може бути і кількість _іменованих_ аргументів, `**kwargs`:"
      ]
    },
    {
      "cell_type": "code",
      "execution_count": null,
      "id": "3b581380",
      "metadata": {
        "ExecuteTime": {
          "end_time": "2022-10-20T21:11:28.848150Z",
          "start_time": "2022-10-20T21:11:28.844674Z"
        },
        "id": "3b581380"
      },
      "outputs": [],
      "source": [
        "def demo(**kwargs):\n",
        "    print(kwargs)"
      ]
    },
    {
      "cell_type": "code",
      "execution_count": null,
      "id": "ada318fc",
      "metadata": {
        "ExecuteTime": {
          "end_time": "2022-10-20T21:11:39.800437Z",
          "start_time": "2022-10-20T21:11:39.797138Z"
        },
        "id": "ada318fc"
      },
      "outputs": [],
      "source": [
        "demo(name=\"Humpty\", location=\"Wall\", surname='Pump')"
      ]
    },
    {
      "cell_type": "markdown",
      "id": "8221b230",
      "metadata": {
        "id": "8221b230"
      },
      "source": [
        "### Передача параметрів колекціями"
      ]
    },
    {
      "cell_type": "markdown",
      "id": "0faf5c63",
      "metadata": {
        "ExecuteTime": {
          "end_time": "2022-10-20T11:37:11.156779Z",
          "start_time": "2022-10-20T11:37:11.139345Z"
        },
        "id": "0faf5c63"
      },
      "source": [
        "Можемо ще передавати аргументи у функцію кортежем або масивом, якщо хочемо передати неіменовані аргументи:"
      ]
    },
    {
      "cell_type": "code",
      "execution_count": null,
      "id": "a5ce5f18",
      "metadata": {
        "ExecuteTime": {
          "end_time": "2022-10-20T21:12:02.886558Z",
          "start_time": "2022-10-20T21:12:02.883036Z"
        },
        "id": "a5ce5f18"
      },
      "outputs": [],
      "source": [
        "def list_numbers(first, second, third):\n",
        "    print(\"First number\", first)\n",
        "    print(\"Second number\", second)\n",
        "    print(\"Third number\", third)"
      ]
    },
    {
      "cell_type": "code",
      "execution_count": null,
      "id": "1312b085",
      "metadata": {
        "ExecuteTime": {
          "end_time": "2022-10-20T21:12:03.367416Z",
          "start_time": "2022-10-20T21:12:03.362946Z"
        },
        "id": "1312b085"
      },
      "outputs": [],
      "source": [
        "args = [\"One\",\"Two\",\"Three\"]\n",
        "list_numbers(*args)"
      ]
    },
    {
      "cell_type": "markdown",
      "id": "348a4728",
      "metadata": {
        "ExecuteTime": {
          "end_time": "2022-10-20T11:37:33.571712Z",
          "start_time": "2022-10-20T11:37:33.564597Z"
        },
        "id": "348a4728"
      },
      "source": [
        "Або словником, якщо хочемо передати іменовані аргументи:"
      ]
    },
    {
      "cell_type": "code",
      "execution_count": null,
      "id": "09c54f67",
      "metadata": {
        "ExecuteTime": {
          "end_time": "2022-10-20T22:31:25.740075Z",
          "start_time": "2022-10-20T22:31:25.718580Z"
        },
        "id": "09c54f67"
      },
      "outputs": [],
      "source": [
        "kwargs = {\n",
        "    \"third\": \"Three\",\n",
        "    \"second\": \"Two\",\n",
        "    \"first\": \"One\"\n",
        "}\n",
        "list_numbers(**kwargs)"
      ]
    },
    {
      "cell_type": "markdown",
      "id": "742d3830",
      "metadata": {
        "id": "742d3830"
      },
      "source": [
        "## Приклад використання функцій"
      ]
    },
    {
      "cell_type": "markdown",
      "id": "46f156c3",
      "metadata": {
        "id": "46f156c3"
      },
      "source": [
        "### Обчислення виразу"
      ]
    },
    {
      "cell_type": "markdown",
      "id": "1094d99b",
      "metadata": {
        "ExecuteTime": {
          "end_time": "2022-10-20T09:35:11.971999Z",
          "start_time": "2022-10-20T09:35:11.967705Z"
        },
        "id": "1094d99b"
      },
      "source": [
        "Основне призначення функцій — групувати код, який виконується кілька разів. Наприклад, нам треба порахувати наступний вираз для різних значень параметрів a, b, c:  \n",
        "```(a + 1) + (b + 1) + (c + 1)```"
      ]
    },
    {
      "cell_type": "code",
      "execution_count": null,
      "id": "c4de9662",
      "metadata": {
        "ExecuteTime": {
          "end_time": "2022-10-20T21:13:53.265234Z",
          "start_time": "2022-10-20T21:13:53.262413Z"
        },
        "id": "c4de9662"
      },
      "outputs": [],
      "source": [
        "def increment(x):\n",
        "    return x + 1"
      ]
    },
    {
      "cell_type": "code",
      "execution_count": null,
      "id": "175e3af7",
      "metadata": {
        "ExecuteTime": {
          "end_time": "2022-10-20T21:13:55.022817Z",
          "start_time": "2022-10-20T21:13:55.019532Z"
        },
        "id": "175e3af7"
      },
      "outputs": [],
      "source": [
        "def eval_expression(a, b, c):\n",
        "    return increment(a) + increment(b) + increment(c)"
      ]
    },
    {
      "cell_type": "code",
      "execution_count": null,
      "id": "78008580",
      "metadata": {
        "ExecuteTime": {
          "end_time": "2022-10-20T21:14:12.137546Z",
          "start_time": "2022-10-20T21:14:12.133569Z"
        },
        "id": "78008580"
      },
      "outputs": [],
      "source": [
        "eval_expression(11, 12, 13)"
      ]
    },
    {
      "cell_type": "code",
      "execution_count": null,
      "id": "8b450106",
      "metadata": {
        "ExecuteTime": {
          "end_time": "2022-10-20T21:14:12.275296Z",
          "start_time": "2022-10-20T21:14:12.268934Z"
        },
        "id": "8b450106"
      },
      "outputs": [],
      "source": [
        "eval_expression(22, 15, 18)"
      ]
    },
    {
      "cell_type": "markdown",
      "id": "b5865022",
      "metadata": {
        "id": "b5865022"
      },
      "source": [
        "Без функцій ми б писали для кожного виразу наступне:"
      ]
    },
    {
      "cell_type": "code",
      "execution_count": null,
      "id": "0619b77c",
      "metadata": {
        "ExecuteTime": {
          "end_time": "2022-10-20T21:14:24.782263Z",
          "start_time": "2022-10-20T21:14:24.778284Z"
        },
        "id": "0619b77c"
      },
      "outputs": [],
      "source": [
        "(11 + 1) + (12 + 1) + (13 + 1 )"
      ]
    },
    {
      "cell_type": "markdown",
      "id": "d30523c8",
      "metadata": {
        "ExecuteTime": {
          "end_time": "2022-10-20T09:41:11.943417Z",
          "start_time": "2022-10-20T09:41:11.934039Z"
        },
        "id": "d30523c8"
      },
      "source": [
        "А якщо б нам треба було зробити обчислення для 1000 трійок чисел? Ми б 1000 скопіювали той код.  \n",
        "А якщо потім раптом нам би довелось внести зміну у вираз і зробити з нього наступний:\n",
        "    ```(a + 1) + (b + 1) + (c + 1) + 100```\n",
        "    \n",
        "Нам би довелось відредагувати код в 1000 рядках. А уявіть, що кожен з цих рядків викликається в окремому файлі. Велика імовірність, що ми могли б щось десь загубити і не виправити, а потім шукати помилку.\n",
        "Тож, якщо у вас один и той самий код виконується в двох місцях - вже є сенс написати функцію, аби уникнути дублювання коду."
      ]
    },
    {
      "cell_type": "markdown",
      "id": "d372b014",
      "metadata": {
        "ExecuteTime": {
          "end_time": "2022-10-20T10:36:15.151942Z",
          "start_time": "2022-10-20T10:36:15.144759Z"
        },
        "id": "d372b014"
      },
      "source": [
        "## Стек викликів\n",
        "Python запам’ятає, який рядок коду викликав функцію, щоб виконання могло повернутися туди, коли зустрінеться оператор `return`.  \n",
        "Якщо ця оригінальна функція викликала інші функції, виконуються спочатку ті функції, а потім повертаємось до виконання першої функції."
      ]
    },
    {
      "cell_type": "code",
      "execution_count": null,
      "id": "048374f6",
      "metadata": {
        "ExecuteTime": {
          "end_time": "2022-10-20T21:19:07.124013Z",
          "start_time": "2022-10-20T21:19:07.117730Z"
        },
        "id": "048374f6"
      },
      "outputs": [],
      "source": [
        "def a():\n",
        "    print('a() starts')\n",
        "    b()\n",
        "    d()\n",
        "    print('a() returns')\n",
        "\n",
        "def b():\n",
        "    print('b() starts')\n",
        "    c()\n",
        "    print('b() returns')\n",
        "\n",
        "def c():\n",
        "    print('c() starts')\n",
        "    print('c() returns')\n",
        "\n",
        "def d():\n",
        "    print('d() starts')\n",
        "    print('d() returns')\n",
        "\n",
        "a()"
      ]
    },
    {
      "cell_type": "markdown",
      "id": "95e26759",
      "metadata": {
        "ExecuteTime": {
          "end_time": "2022-10-20T10:34:42.456393Z",
          "start_time": "2022-10-20T10:34:42.448365Z"
        },
        "id": "95e26759"
      },
      "source": [
        "Можемо прослідкувати виконання [тут](https://pythontutor.com/render.html#code=def%20a%28%29%3A%0A%20%20%20%20print%28'a%28%29%20starts'%29%0A%20%20%20%20b%28%29%0A%20%20%20%20d%28%29%0A%20%20%20%20print%28'a%28%29%20returns'%29%0A%0Adef%20b%28%29%3A%0A%20%20%20%20print%28'b%28%29%20starts'%29%0A%20%20%20%20c%28%29%0A%20%20%20%20print%28'b%28%29%20returns'%29%0A%0Adef%20c%28%29%3A%0A%20%20%20%20print%28'c%28%29%20starts'%29%0A%20%20%20%20print%28'c%28%29%20returns'%29%0A%0Adef%20d%28%29%3A%0A%20%20%20%20print%28'd%28%29%20starts'%29%0A%20%20%20%20print%28'd%28%29%20returns'%29%0A%0Aa%28%29&cumulative=false&curInstr=0&heapPrimitives=false&mode=display&origin=opt-frontend.js&py=3&rawInputLstJSON=%5B%5D&textReferences=false)."
      ]
    },
    {
      "cell_type": "markdown",
      "id": "e9f66bcb",
      "metadata": {
        "id": "e9f66bcb"
      },
      "source": [
        "![](https://drive.google.com/uc?export=view&id=1jML0aomKyVorRfScoeFecKKNJ-wux3sg)"
      ]
    },
    {
      "cell_type": "markdown",
      "id": "fb7fd767",
      "metadata": {
        "ExecuteTime": {
          "end_time": "2022-10-20T10:39:54.993748Z",
          "start_time": "2022-10-20T10:39:54.984886Z"
        },
        "id": "fb7fd767"
      },
      "source": [
        "## Глобальний і локальний області видимості\n",
        "\n",
        "Параметри та змінні, призначені у викликаній функції, вважаються такими, що існують у локальній області видимості цієї функції.   \n",
        "Кажуть, що змінні, які визначаються поза всіма функціями, існують у глобальній області видимості.   \n",
        "Змінна, яка існує в локальній області, називається `локальною змінною`, тоді як змінна, яка існує в глобальній області, називається `глобальною змінною`.   \n",
        "Змінна має бути або локальною, або глобальною; вона не може бути одночасно в обох областях видимості.  \n",
        "\n",
        "\n",
        "Ми маємо зважати на області видимості з кількох причин:\n",
        "\n",
        "- Код у глобальній області видимості, поза всіма функціями, не може використовувати локальні змінні будь-якої з функцій.\n",
        "- Однак код у локальній області може мати доступ до глобальних змінних.\n",
        "- Код у локальній області видимості функції не може використовувати змінні в будь-якій іншій локальній області видимості.\n",
        "- Ви можете використовувати однакові назви для різних змінних, якщо вони знаходяться в різних областях видимості. Тобто може існувати локальна змінна з іменем `spam` і глобальна змінна з іменем `spam`.\n",
        "\n",
        "\n",
        "Приклад змінної в локальній області видимостій функції:\n"
      ]
    },
    {
      "cell_type": "code",
      "execution_count": null,
      "id": "2a6dd9ee",
      "metadata": {
        "ExecuteTime": {
          "end_time": "2022-10-20T21:23:24.788903Z",
          "start_time": "2022-10-20T21:23:24.763034Z"
        },
        "id": "2a6dd9ee"
      },
      "outputs": [],
      "source": [
        "def spam():\n",
        "    eggs = 12345\n",
        "\n",
        "spam()\n",
        "print(eggs)"
      ]
    },
    {
      "cell_type": "markdown",
      "id": "c943479a",
      "metadata": {
        "id": "c943479a"
      },
      "source": [
        "Приклад того, що локальні області видимості не можуть використовувати змінні з інших локальних областей видимості."
      ]
    },
    {
      "cell_type": "code",
      "execution_count": null,
      "id": "e50eaa8e",
      "metadata": {
        "ExecuteTime": {
          "end_time": "2022-10-20T21:24:21.220633Z",
          "start_time": "2022-10-20T21:24:21.200976Z"
        },
        "id": "e50eaa8e"
      },
      "outputs": [],
      "source": [
        "def spam():\n",
        "    eggs = 100\n",
        "    bacon()\n",
        "    print(eggs)\n",
        "\n",
        "def bacon():\n",
        "    ham = 22\n",
        "    eggs = 13\n",
        "\n",
        "spam()"
      ]
    },
    {
      "cell_type": "markdown",
      "id": "a61a166d",
      "metadata": {
        "id": "a61a166d"
      },
      "source": [
        "Приклад того, що глобальні змінні можна читати з локальної області видимості:"
      ]
    },
    {
      "cell_type": "code",
      "execution_count": null,
      "id": "44bb95d7",
      "metadata": {
        "ExecuteTime": {
          "end_time": "2022-10-20T21:24:48.026398Z",
          "start_time": "2022-10-20T21:24:48.022846Z"
        },
        "id": "44bb95d7"
      },
      "outputs": [],
      "source": [
        "def spam():\n",
        "    print(eggs)\n",
        "\n",
        "eggs = 54\n",
        "spam()\n",
        "print(eggs)"
      ]
    },
    {
      "cell_type": "markdown",
      "id": "ddd70270",
      "metadata": {
        "ExecuteTime": {
          "end_time": "2022-10-20T10:49:36.200014Z",
          "start_time": "2022-10-20T10:49:36.187684Z"
        },
        "id": "ddd70270"
      },
      "source": [
        "Приклад локальних та глобальних змінних з однаковими іменами:"
      ]
    },
    {
      "cell_type": "code",
      "execution_count": null,
      "id": "d3af9816",
      "metadata": {
        "ExecuteTime": {
          "end_time": "2022-10-20T21:25:43.844077Z",
          "start_time": "2022-10-20T21:25:43.839233Z"
        },
        "id": "d3af9816"
      },
      "outputs": [],
      "source": [
        "def spam():\n",
        "    eggs = 'spam local'\n",
        "    print(eggs)\n",
        "\n",
        "def bacon():\n",
        "    eggs = 'bacon local'\n",
        "    print(eggs)\n",
        "    spam()\n",
        "    print(eggs)\n",
        "\n",
        "eggs = 'global'\n",
        "bacon()\n",
        "print(eggs)"
      ]
    },
    {
      "cell_type": "markdown",
      "id": "300ae553",
      "metadata": {
        "id": "300ae553"
      },
      "source": [
        "Можна відслідкувати виконання [тут](https://pythontutor.com/render.html#code=def%20spam%28%29%3A%0A%20%20%20%20eggs%20%3D%20'spam%20local'%0A%20%20%20%20print%28eggs%29%20%20%20%20%23%20prints%20'spam%20local'%0A%0Adef%20bacon%28%29%3A%0A%20%20%20%20eggs%20%3D%20'bacon%20local'%0A%20%20%20%20print%28eggs%29%20%20%20%20%23%20prints%20'bacon%20local'%0A%20%20%20%20spam%28%29%0A%20%20%20%20print%28eggs%29%20%20%20%20%23%20prints%20'bacon%20local'%0A%0Aeggs%20%3D%20'global'%0Abacon%28%29%0Aprint%28eggs%29%20%20%20%20%20%20%20%20%23%20prints%20'global'&cumulative=false&curInstr=0&heapPrimitives=false&mode=display&origin=opt-frontend.js&py=3&rawInputLstJSON=%5B%5D&textReferences=false)."
      ]
    },
    {
      "cell_type": "markdown",
      "id": "486fe2e5",
      "metadata": {
        "ExecuteTime": {
          "end_time": "2022-10-20T10:55:55.611755Z",
          "start_time": "2022-10-20T10:55:55.609164Z"
        },
        "id": "486fe2e5"
      },
      "source": [
        "## Вираз `global`\n",
        "\n",
        "Якщо вам потрібно змінити глобальну змінну всередині функції, скористайтеся оператором `global`."
      ]
    },
    {
      "cell_type": "code",
      "execution_count": null,
      "id": "6c8c16f8",
      "metadata": {
        "ExecuteTime": {
          "end_time": "2022-10-20T21:27:09.387786Z",
          "start_time": "2022-10-20T21:27:09.381606Z"
        },
        "id": "6c8c16f8"
      },
      "outputs": [],
      "source": [
        "def spam():\n",
        "    global eggs\n",
        "    eggs = 'spam'\n",
        "\n",
        "eggs = 'global'\n",
        "spam()\n",
        "print(eggs)"
      ]
    },
    {
      "cell_type": "markdown",
      "id": "2711dd6a",
      "metadata": {
        "id": "2711dd6a"
      },
      "source": [
        "Існує чотири правила, які визначають, чи знаходиться змінна в локальній чи глобальній області видимості:\n",
        "\n",
        "- Якщо змінна використовується в глобальній області (тобто поза всіма функціями), то це завжди глобальна змінна.\n",
        "- Якщо для цієї змінної у функції є оператор `global`, це глобальна змінна.\n",
        "- В іншому випадку, якщо змінна використовується в операторі присвоєння у функції, це локальна змінна.\n",
        "- Але якщо змінна не використовується в операторі присвоєння, вона є глобальною змінною.\n",
        "\n",
        "Якщо ви раптом забули ці правила, ви завжджи можете потестувати на простому прикладі те, що хочете реалізувати."
      ]
    },
    {
      "cell_type": "markdown",
      "id": "e690f827",
      "metadata": {
        "id": "e690f827"
      },
      "source": [
        "Розглянемо приклад:"
      ]
    },
    {
      "cell_type": "code",
      "execution_count": null,
      "id": "df8a8432",
      "metadata": {
        "ExecuteTime": {
          "end_time": "2022-10-20T21:30:03.491204Z",
          "start_time": "2022-10-20T21:30:03.485893Z"
        },
        "id": "df8a8432"
      },
      "outputs": [],
      "source": [
        "def spam():\n",
        "    global eggs\n",
        "    eggs = 'spam' # глобальна змінна\n",
        "\n",
        "def bacon():\n",
        "    eggs = 'bacon' # локальна\n",
        "\n",
        "def ham():\n",
        "    print(eggs) # глобальна\n",
        "\n",
        "eggs = 42 # глобальна\n",
        "spam()\n",
        "print(eggs)\n",
        "bacon()\n",
        "print(eggs)\n",
        "ham()\n",
        "print(eggs)"
      ]
    },
    {
      "cell_type": "markdown",
      "id": "f7dd35bf",
      "metadata": {
        "id": "f7dd35bf"
      },
      "source": [
        "Якщо ви спробуєте використати локальну змінну у функції перед тим, як присвоїти їй значення, як у наступній програмі, Python видасть вам помилку."
      ]
    },
    {
      "cell_type": "code",
      "execution_count": null,
      "id": "e17f4902",
      "metadata": {
        "ExecuteTime": {
          "end_time": "2022-10-20T21:31:11.786283Z",
          "start_time": "2022-10-20T21:31:11.752723Z"
        },
        "id": "e17f4902"
      },
      "outputs": [],
      "source": [
        "def spam():\n",
        "    print(eggs) # Помилка\n",
        "    eggs = 'spam local'\n",
        "\n",
        "eggs = 'global'\n",
        "spam()"
      ]
    },
    {
      "cell_type": "markdown",
      "id": "41d636fc",
      "metadata": {
        "id": "41d636fc"
      },
      "source": [
        "Ця помилка виникає через те, що Python бачить, що у функції `spam()` є оператор призначення для `eggs` змінної - значить вона - локальна."
      ]
    },
    {
      "cell_type": "markdown",
      "id": "68af9a21",
      "metadata": {
        "id": "68af9a21"
      },
      "source": [
        "# Модулі"
      ]
    },
    {
      "cell_type": "markdown",
      "id": "19c472a9",
      "metadata": {
        "ExecuteTime": {
          "end_time": "2022-10-20T09:18:40.154504Z",
          "start_time": "2022-10-20T09:18:40.123448Z"
        },
        "id": "19c472a9"
      },
      "source": [
        "Усі програми Python можуть викликати базовий набір функцій, які називаються вбудованими функціями, включаючи функції print(), input() і len(), які ви бачили раніше.  \n",
        "Python також поставляється з набором модулів, який називається `стандартною бібліотекою`.  \n",
        "Кожен модуль — це програма Python, яка містить пов’язану групу функцій, які можна використати у ваших програмах.   \n",
        "Наприклад, модуль `math` має функції, пов’язані з математикою, модуль `random` — функції, пов’язані з випадковими числами, і так далі.\n",
        "\n",
        "Перш ніж ви зможете використовувати функції в модулі, ви повинні імпортувати модуль за допомогою оператора імпорту. У коді оператор імпорту складається з наступного:\n",
        "\n",
        "1. Ключове слово `import`\n",
        "2. Назва модуля\n",
        "3. Можна імпортувати кілька модулів, вказавши їх назви через кому, але зазвичай ми імпортуємо один модуль в одному рядку\n",
        "\n",
        "Після імпорту модуля ви зможете використовувати всі цікаві функції цього модуля. Давайте спробуємо з модулем random, який надасть нам доступ до функції random.randint()."
      ]
    },
    {
      "cell_type": "code",
      "execution_count": null,
      "id": "cd537549",
      "metadata": {
        "ExecuteTime": {
          "end_time": "2022-10-20T21:35:20.045098Z",
          "start_time": "2022-10-20T21:35:20.041215Z"
        },
        "id": "cd537549"
      },
      "outputs": [],
      "source": [
        "import random\n",
        "\n",
        "# на випадок, якщо ми хочемо зафіксувати ті випадкові числа, які генерують викликані функції\n",
        "# random.seed(42)\n",
        "\n",
        "for i in range(5):\n",
        "    print(random.randint(1, 10))"
      ]
    },
    {
      "cell_type": "markdown",
      "id": "f67bb6b5",
      "metadata": {
        "ExecuteTime": {
          "end_time": "2022-10-20T09:20:53.631919Z",
          "start_time": "2022-10-20T09:20:53.626619Z"
        },
        "id": "f67bb6b5"
      },
      "source": [
        "Ось приклад оператора імпорту, який імпортує чотири різні модулі. Але зазвичай ми все ж пишемо кожен модуль в окремому рядочку."
      ]
    },
    {
      "cell_type": "code",
      "execution_count": null,
      "id": "66c51647",
      "metadata": {
        "ExecuteTime": {
          "end_time": "2022-10-20T21:35:36.164593Z",
          "start_time": "2022-10-20T21:35:36.155772Z"
        },
        "id": "66c51647"
      },
      "outputs": [],
      "source": [
        "import random, sys, os, math"
      ]
    },
    {
      "cell_type": "code",
      "execution_count": null,
      "id": "eff7e265",
      "metadata": {
        "ExecuteTime": {
          "end_time": "2022-10-20T21:35:55.220780Z",
          "start_time": "2022-10-20T21:35:55.216777Z"
        },
        "id": "eff7e265"
      },
      "outputs": [],
      "source": [
        "os.cpu_count()"
      ]
    },
    {
      "cell_type": "markdown",
      "id": "dfefed07",
      "metadata": {
        "id": "dfefed07"
      },
      "source": [
        "Тобто частіше ми будемо імпортувати наступним чином:"
      ]
    },
    {
      "cell_type": "code",
      "execution_count": null,
      "id": "fe76d816",
      "metadata": {
        "ExecuteTime": {
          "end_time": "2022-10-20T09:22:51.708106Z",
          "start_time": "2022-10-20T09:22:51.705269Z"
        },
        "id": "fe76d816"
      },
      "outputs": [],
      "source": [
        "import math\n",
        "import os\n",
        "import random\n",
        "import sys"
      ]
    },
    {
      "cell_type": "markdown",
      "id": "20429ea9",
      "metadata": {
        "ExecuteTime": {
          "end_time": "2022-10-20T09:24:32.015081Z",
          "start_time": "2022-10-20T09:24:32.006536Z"
        },
        "id": "20429ea9"
      },
      "source": [
        "Порядок імпортів має значення для зручності перегляду - маємо розташовувати імпорти в алфавітному порядку. Детальніше про це - в стандарті [PEP8](https://peps.python.org/pep-0008/#imports)."
      ]
    },
    {
      "cell_type": "markdown",
      "id": "69943520",
      "metadata": {
        "id": "69943520"
      },
      "source": [
        "Ще один важливий момент. Імпорти як ви вже зрозуміли, можуть бути в будь-якому місці кода. Але прийнято всі імпорти розташувати вверху файла (.ipynb чи .py). Іноді ми можемо захотіти імпортувати модуль всередині функції, якщо він більше ніде не використовується і функція викликається рідко. Але на початкових етапах можна просто писати всі імпорти вверху."
      ]
    },
    {
      "cell_type": "markdown",
      "id": "04e8de18",
      "metadata": {
        "ExecuteTime": {
          "end_time": "2022-10-20T09:16:26.219084Z",
          "start_time": "2022-10-20T09:16:26.143644Z"
        },
        "id": "04e8de18"
      },
      "source": [
        "## Інструкція from\n",
        "Альтернативна форма оператора `import` складається з ключового слова `from`, за яким слідує назва модуля, ключове слово `import` і зірочка або назви функцій і класів, які ви хочете імпортувати."
      ]
    },
    {
      "cell_type": "code",
      "execution_count": null,
      "id": "38a5ed4f",
      "metadata": {
        "ExecuteTime": {
          "end_time": "2022-10-20T21:39:35.699934Z",
          "start_time": "2022-10-20T21:39:35.697512Z"
        },
        "id": "38a5ed4f"
      },
      "outputs": [],
      "source": [
        "from random import *"
      ]
    },
    {
      "cell_type": "code",
      "execution_count": null,
      "id": "6b1aae49",
      "metadata": {
        "ExecuteTime": {
          "end_time": "2022-10-20T21:39:36.360102Z",
          "start_time": "2022-10-20T21:39:36.355959Z"
        },
        "id": "6b1aae49"
      },
      "outputs": [],
      "source": [
        "randint(1, 1000)"
      ]
    },
    {
      "cell_type": "markdown",
      "id": "d6e833f6",
      "metadata": {
        "ExecuteTime": {
          "end_time": "2022-10-20T09:16:26.219084Z",
          "start_time": "2022-10-20T09:16:26.143644Z"
        },
        "id": "d6e833f6"
      },
      "source": [
        "З цією формою оператора імпорту виклики функцій модуля `random` не потребуватимуть `random.` префіксу. Однак використання повного імені робить код більш читабельним, бо ми розуміємо, звідки взялась та функція, тому краще використовувати `import random` або прописувати явно назву функції в імпорті:"
      ]
    },
    {
      "cell_type": "code",
      "execution_count": null,
      "id": "bec6c8e2",
      "metadata": {
        "ExecuteTime": {
          "end_time": "2022-10-20T21:40:17.433489Z",
          "start_time": "2022-10-20T21:40:17.431035Z"
        },
        "id": "bec6c8e2"
      },
      "outputs": [],
      "source": [
        "from random import randint"
      ]
    },
    {
      "cell_type": "markdown",
      "id": "6b8ad427",
      "metadata": {
        "ExecuteTime": {
          "end_time": "2022-10-20T10:28:16.530500Z",
          "start_time": "2022-10-20T10:28:16.525863Z"
        },
        "id": "6b8ad427"
      },
      "source": [
        "## Приклад функції з використанням модуля"
      ]
    },
    {
      "cell_type": "code",
      "execution_count": null,
      "id": "eec1d5a4",
      "metadata": {
        "ExecuteTime": {
          "end_time": "2022-10-20T21:41:09.849036Z",
          "start_time": "2022-10-20T21:41:09.839484Z"
        },
        "id": "eec1d5a4"
      },
      "outputs": [],
      "source": [
        "import random\n",
        "\n",
        "def get_answer(answer_number):\n",
        "    if answer_number == 1:\n",
        "        return 'Так'\n",
        "    elif answer_number == 2:\n",
        "        return 'Навряд чи'\n",
        "    elif answer_number == 3:\n",
        "        return 'Ні'\n",
        "    elif answer_number == 4:\n",
        "        return 'Спробуй ще раз пізніше'\n",
        "    elif answer_number == 5:\n",
        "        return '90% що так'\n",
        "    elif answer_number == 6:\n",
        "        return 'Сконцентруйся і спробуй ще раз'\n",
        "    elif answer_number == 7:\n",
        "        return 'Умови не сприяють'\n",
        "    elif answer_number == 8:\n",
        "        return 'Можливо'\n",
        "    elif answer_number == 9:\n",
        "        return 'Дуже навряд чи'\n",
        "\n",
        "r = random.randint(1, 9)\n",
        "print('Твій номер: ', r)\n",
        "fortune = get_answer(r)\n",
        "print('Моя відповідь: ', fortune)"
      ]
    },
    {
      "cell_type": "markdown",
      "id": "47579444",
      "metadata": {
        "id": "47579444"
      },
      "source": [
        "# Винятки (Exceptions)\n",
        "\n",
        "Винятки виникають під час виконання, коли у вашій програмі виникає ненормальна ситуація. Винятки також можуть бути створені та викликані вашим кодом. Приклад винятку:"
      ]
    },
    {
      "cell_type": "code",
      "execution_count": null,
      "id": "119ac626",
      "metadata": {
        "ExecuteTime": {
          "end_time": "2022-10-20T21:42:25.460711Z",
          "start_time": "2022-10-20T21:42:25.455356Z"
        },
        "id": "119ac626"
      },
      "outputs": [],
      "source": [
        "age = \"31\""
      ]
    },
    {
      "cell_type": "code",
      "execution_count": null,
      "id": "063832e6",
      "metadata": {
        "ExecuteTime": {
          "end_time": "2022-10-20T21:42:35.927676Z",
          "start_time": "2022-10-20T21:42:35.909772Z"
        },
        "id": "063832e6"
      },
      "outputs": [],
      "source": [
        "if age > 21:\n",
        "    print(\"Вхід дозволено.\")"
      ]
    },
    {
      "cell_type": "markdown",
      "id": "b7c3c2e9",
      "metadata": {
        "id": "b7c3c2e9"
      },
      "source": [
        "Винятки можна обробляти під час виконання за допомогою блоку `try/except`:"
      ]
    },
    {
      "cell_type": "code",
      "execution_count": null,
      "id": "8895a681",
      "metadata": {
        "ExecuteTime": {
          "end_time": "2022-10-20T21:44:01.796397Z",
          "start_time": "2022-10-20T21:44:01.791917Z"
        },
        "id": "8895a681"
      },
      "outputs": [],
      "source": [
        "try:\n",
        "    if age > 21:\n",
        "        print(\"Вхід дозволено.\")\n",
        "except:\n",
        "    print(\"Щось пішло не так.\")"
      ]
    },
    {
      "cell_type": "markdown",
      "id": "b4e9085b",
      "metadata": {
        "id": "b4e9085b"
      },
      "source": [
        "Частина `except` також може бути параметризована з очікуваним винятком:"
      ]
    },
    {
      "cell_type": "code",
      "execution_count": null,
      "id": "a19ab3b0",
      "metadata": {
        "ExecuteTime": {
          "end_time": "2022-10-20T22:33:30.116817Z",
          "start_time": "2022-10-20T22:33:30.102298Z"
        },
        "id": "a19ab3b0"
      },
      "outputs": [],
      "source": [
        "try:\n",
        "    if age > 21:\n",
        "        print(\"Вхід дозволено.\")\n",
        "except TypeError:\n",
        "    print(\"Щось пішло не так.\")"
      ]
    },
    {
      "cell_type": "markdown",
      "id": "3ae4aec6",
      "metadata": {
        "id": "3ae4aec6"
      },
      "source": [
        "Але в такому випадку ми ловимо тільки визначені винятки. Приклад:"
      ]
    },
    {
      "cell_type": "code",
      "execution_count": null,
      "id": "1e287a10",
      "metadata": {
        "ExecuteTime": {
          "end_time": "2022-10-20T21:45:23.150935Z",
          "start_time": "2022-10-20T21:45:23.114862Z"
        },
        "id": "1e287a10"
      },
      "outputs": [],
      "source": [
        "def spam(divide_by):\n",
        "    return 42 / divide_by\n",
        "\n",
        "try:\n",
        "    print(spam(2))\n",
        "    print(spam(12))\n",
        "    print(spam(0))\n",
        "    print(spam(1))\n",
        "except TypeError as e:\n",
        "    print(str(e))"
      ]
    },
    {
      "cell_type": "markdown",
      "id": "89a8c943",
      "metadata": {
        "id": "89a8c943"
      },
      "source": [
        "Не відловився виняток, бо ми відклювлювали інший тип."
      ]
    },
    {
      "cell_type": "markdown",
      "id": "a5215a60",
      "metadata": {
        "id": "a5215a60"
      },
      "source": [
        "Також, зверніть увагу, що програма виконується до першого винятка, а потім зупиняється. Аби це обійти і зробити так аби для всіх даних виконалась обробка, треба обробку винятків перенести в саму функцію."
      ]
    },
    {
      "cell_type": "code",
      "execution_count": null,
      "id": "d11609b5",
      "metadata": {
        "ExecuteTime": {
          "end_time": "2022-10-20T21:46:08.542570Z",
          "start_time": "2022-10-20T21:46:08.535962Z"
        },
        "id": "d11609b5"
      },
      "outputs": [],
      "source": [
        "def spam(divide_by):\n",
        "    try:\n",
        "        return 42 / divide_by\n",
        "    except ZeroDivisionError:\n",
        "        print('Error: Invalid argument.')\n",
        "\n",
        "\n",
        "print(spam(2))\n",
        "print(spam(12))\n",
        "print(spam(0))\n",
        "print(spam(1))"
      ]
    },
    {
      "cell_type": "markdown",
      "id": "d8d7cf06",
      "metadata": {
        "id": "d8d7cf06"
      },
      "source": [
        "# Класи"
      ]
    },
    {
      "cell_type": "markdown",
      "id": "d5f09eeb",
      "metadata": {
        "id": "d5f09eeb"
      },
      "source": [
        "Python є об'єктно-орієнтованою мовою програмування.  \n",
        "Майже все в Python є об’єктом зі своїми властивостями та методами.  \n",
        "Клас схожий на конструктор об’єктів або \"схему\" чи \"шаблон\" для створення об’єктів.\n",
        "\n",
        "Створювати класи дуже просто:"
      ]
    },
    {
      "cell_type": "code",
      "execution_count": null,
      "id": "c6ede06a",
      "metadata": {
        "ExecuteTime": {
          "end_time": "2022-10-20T21:49:28.608575Z",
          "start_time": "2022-10-20T21:49:28.605698Z"
        },
        "id": "c6ede06a"
      },
      "outputs": [],
      "source": [
        "class MyClass:\n",
        "    x = 5"
      ]
    },
    {
      "cell_type": "code",
      "execution_count": null,
      "id": "5ff3ec47",
      "metadata": {
        "ExecuteTime": {
          "end_time": "2022-10-20T21:51:30.513417Z",
          "start_time": "2022-10-20T21:51:30.509224Z"
        },
        "id": "5ff3ec47"
      },
      "outputs": [],
      "source": [
        "class_instance = MyClass()\n",
        "class_instance.x"
      ]
    },
    {
      "cell_type": "code",
      "execution_count": null,
      "id": "64dc61f6",
      "metadata": {
        "ExecuteTime": {
          "end_time": "2022-10-20T21:52:13.579829Z",
          "start_time": "2022-10-20T21:52:13.575182Z"
        },
        "id": "64dc61f6"
      },
      "outputs": [],
      "source": [
        "type(class_instance)"
      ]
    },
    {
      "cell_type": "markdown",
      "id": "f8a42216",
      "metadata": {
        "ExecuteTime": {
          "end_time": "2022-10-20T11:15:31.848799Z",
          "start_time": "2022-10-20T11:15:31.845660Z"
        },
        "id": "f8a42216"
      },
      "source": [
        "## Init метод"
      ]
    },
    {
      "cell_type": "markdown",
      "id": "9413721b",
      "metadata": {
        "ExecuteTime": {
          "end_time": "2022-10-20T11:15:35.314901Z",
          "start_time": "2022-10-20T11:15:35.306842Z"
        },
        "id": "9413721b"
      },
      "source": [
        "Усі класи мають функцію під назвою `__init__()`, яка завжди виконується, коли клас ініціюється.\n",
        "\n",
        "Використовуйте функцію `__init__()`, щоб присвоїти значення властивостям об’єкта або іншим операціям, які необхідно виконувати під час створення об’єкта:"
      ]
    },
    {
      "cell_type": "code",
      "execution_count": null,
      "id": "19440a5d",
      "metadata": {
        "ExecuteTime": {
          "end_time": "2022-10-20T21:53:08.193821Z",
          "start_time": "2022-10-20T21:53:08.187404Z"
        },
        "id": "19440a5d"
      },
      "outputs": [],
      "source": [
        "class User:\n",
        "    def __init__(self, user_id, n_days, total_amount_usd):\n",
        "        self.user_id = user_id\n",
        "        self.n_days = n_days\n",
        "        self.total_amount_usd = total_amount_usd"
      ]
    },
    {
      "cell_type": "code",
      "execution_count": null,
      "id": "5b4ae38b",
      "metadata": {
        "ExecuteTime": {
          "end_time": "2022-10-20T21:53:51.709191Z",
          "start_time": "2022-10-20T21:53:51.702565Z"
        },
        "id": "5b4ae38b"
      },
      "outputs": [],
      "source": [
        "user_1 = User(\"12345\", 32, 998)"
      ]
    },
    {
      "cell_type": "code",
      "execution_count": null,
      "id": "52b7ff6d",
      "metadata": {
        "id": "52b7ff6d"
      },
      "outputs": [],
      "source": [
        "user_1.user_id, user_1.n_days, user_1.total_amount_usd"
      ]
    },
    {
      "cell_type": "markdown",
      "id": "01d1c88e",
      "metadata": {
        "id": "01d1c88e"
      },
      "source": [
        "Зверніть увагу, ми можемо створити і такий _екземпляр_ класу, але його _атрибути_ тоді не мають сенсу з точки зору типів даних:"
      ]
    },
    {
      "cell_type": "code",
      "execution_count": null,
      "id": "eb8cf5a5",
      "metadata": {
        "ExecuteTime": {
          "end_time": "2022-10-20T21:54:47.824319Z",
          "start_time": "2022-10-20T21:54:47.819885Z"
        },
        "id": "eb8cf5a5"
      },
      "outputs": [],
      "source": [
        "user_2 = User(\"99999\", \"abc\", \"ehd\")"
      ]
    },
    {
      "cell_type": "code",
      "execution_count": null,
      "id": "06aa605e",
      "metadata": {
        "ExecuteTime": {
          "end_time": "2022-10-20T21:54:49.007887Z",
          "start_time": "2022-10-20T21:54:49.003867Z"
        },
        "id": "06aa605e"
      },
      "outputs": [],
      "source": [
        "user_2.n_days, user_2.total_amount_usd"
      ]
    },
    {
      "cell_type": "markdown",
      "id": "09a9f006",
      "metadata": {
        "id": "09a9f006"
      },
      "source": [
        "Але ми можемо перевіряти типи даних на вході, або в методах класу, аналогічно до перевірки типів даних в фукнції."
      ]
    },
    {
      "cell_type": "markdown",
      "id": "c21002b7",
      "metadata": {
        "id": "c21002b7"
      },
      "source": [
        "## Методи класу"
      ]
    },
    {
      "cell_type": "code",
      "execution_count": null,
      "id": "923728cb",
      "metadata": {
        "ExecuteTime": {
          "end_time": "2022-10-20T22:01:54.948531Z",
          "start_time": "2022-10-20T22:01:54.944707Z"
        },
        "id": "923728cb"
      },
      "outputs": [],
      "source": [
        "class User:\n",
        "    def __init__(self, user_id, n_days, total_amount_usd):\n",
        "        self.user_id = user_id\n",
        "        self.n_days = n_days\n",
        "        self.total_amount_usd = total_amount_usd\n",
        "\n",
        "    def get_segment(self): # self - завжди в методах класів\n",
        "        self.segment = 'Just an ordinary client.'\n",
        "        if self.n_days > 30 and self.total_amount_usd > 1000:\n",
        "            self.segment = 'Best client ever.'\n",
        "        return self"
      ]
    },
    {
      "cell_type": "code",
      "execution_count": null,
      "id": "f367d728",
      "metadata": {
        "ExecuteTime": {
          "end_time": "2022-10-20T21:58:05.901614Z",
          "start_time": "2022-10-20T21:58:05.897738Z"
        },
        "id": "f367d728"
      },
      "outputs": [],
      "source": [
        "user_1 = User(\"12345\", 32, 998)"
      ]
    },
    {
      "cell_type": "code",
      "execution_count": null,
      "id": "afd4794e",
      "metadata": {
        "ExecuteTime": {
          "end_time": "2022-10-20T21:58:07.924166Z",
          "start_time": "2022-10-20T21:58:07.920144Z"
        },
        "id": "afd4794e"
      },
      "outputs": [],
      "source": [
        "user_1.get_segment()\n",
        "user_1.segment"
      ]
    },
    {
      "cell_type": "code",
      "execution_count": null,
      "id": "68d19518",
      "metadata": {
        "ExecuteTime": {
          "end_time": "2022-10-20T22:01:56.797256Z",
          "start_time": "2022-10-20T22:01:56.790549Z"
        },
        "id": "68d19518"
      },
      "outputs": [],
      "source": [
        "user_2 = User(\"12345\", 32, 10003)\n",
        "user_2.get_segment()\n",
        "user_2.segment"
      ]
    },
    {
      "cell_type": "markdown",
      "id": "6a7120f5",
      "metadata": {
        "id": "6a7120f5"
      },
      "source": [
        "## Наслідування"
      ]
    },
    {
      "cell_type": "code",
      "execution_count": null,
      "id": "60cbc269",
      "metadata": {
        "ExecuteTime": {
          "end_time": "2022-10-20T22:06:22.356443Z",
          "start_time": "2022-10-20T22:06:22.352242Z"
        },
        "id": "60cbc269"
      },
      "outputs": [],
      "source": [
        "class MarketingUser(User):\n",
        "    def __init__(self, user_id, n_days, total_amount_usd, traffic_source):\n",
        "        super().__init__(user_id, n_days, total_amount_usd)\n",
        "        self.traffic_source = traffic_source\n",
        "\n",
        "    def get_segment(self): # self - завжди в методах класів\n",
        "        self.segment = 'paid'\n",
        "        if self.traffic_source == 'google':\n",
        "            self.segment = 'organic'\n",
        "        return self"
      ]
    },
    {
      "cell_type": "code",
      "execution_count": null,
      "id": "bd5d80f4",
      "metadata": {
        "ExecuteTime": {
          "end_time": "2022-10-20T22:06:31.444875Z",
          "start_time": "2022-10-20T22:06:31.441856Z"
        },
        "id": "bd5d80f4"
      },
      "outputs": [],
      "source": [
        "# змініть останній аргумент на ʼgoogle'\n",
        "user_2 = MarketingUser(\"12121\", 40, 123, 'google')"
      ]
    },
    {
      "cell_type": "code",
      "execution_count": null,
      "id": "e78e71bd",
      "metadata": {
        "ExecuteTime": {
          "end_time": "2022-10-20T22:05:29.812351Z",
          "start_time": "2022-10-20T22:05:29.808227Z"
        },
        "id": "e78e71bd"
      },
      "outputs": [],
      "source": [
        "user_2.__dict__"
      ]
    },
    {
      "cell_type": "code",
      "execution_count": null,
      "id": "c02b0cd4",
      "metadata": {
        "ExecuteTime": {
          "end_time": "2022-10-20T22:05:43.923040Z",
          "start_time": "2022-10-20T22:05:43.920022Z"
        },
        "id": "c02b0cd4"
      },
      "outputs": [],
      "source": [
        "print(user_2)"
      ]
    },
    {
      "cell_type": "code",
      "execution_count": null,
      "id": "560c6d36",
      "metadata": {
        "ExecuteTime": {
          "end_time": "2022-10-20T22:06:33.514266Z",
          "start_time": "2022-10-20T22:06:33.510126Z"
        },
        "id": "560c6d36"
      },
      "outputs": [],
      "source": [
        "user_2.get_segment().segment"
      ]
    },
    {
      "cell_type": "code",
      "execution_count": null,
      "id": "4d39df9e",
      "metadata": {
        "ExecuteTime": {
          "end_time": "2022-10-20T22:07:02.680767Z",
          "start_time": "2022-10-20T22:07:02.673496Z"
        },
        "id": "4d39df9e"
      },
      "outputs": [],
      "source": [
        "user_2.user_id"
      ]
    },
    {
      "cell_type": "markdown",
      "id": "9d8294c4",
      "metadata": {
        "id": "9d8294c4"
      },
      "source": [
        "# Форматування рядків"
      ]
    },
    {
      "cell_type": "markdown",
      "id": "4b66ec5d",
      "metadata": {
        "id": "4b66ec5d"
      },
      "source": [
        "## Старий стиль"
      ]
    },
    {
      "cell_type": "code",
      "execution_count": null,
      "id": "8ce1e778",
      "metadata": {
        "ExecuteTime": {
          "end_time": "2022-10-20T22:08:01.731135Z",
          "start_time": "2022-10-20T22:08:01.727569Z"
        },
        "id": "8ce1e778"
      },
      "outputs": [],
      "source": [
        "name = 'Bob'\n",
        "age = 12"
      ]
    },
    {
      "cell_type": "code",
      "execution_count": null,
      "id": "6ddc126d",
      "metadata": {
        "ExecuteTime": {
          "end_time": "2022-10-20T22:08:38.242683Z",
          "start_time": "2022-10-20T22:08:38.237099Z"
        },
        "id": "6ddc126d"
      },
      "outputs": [],
      "source": [
        "print('Hello, %s, your age is %d.' % (name, age))"
      ]
    },
    {
      "cell_type": "code",
      "execution_count": null,
      "id": "6378b489",
      "metadata": {
        "ExecuteTime": {
          "end_time": "2022-10-20T22:09:28.015327Z",
          "start_time": "2022-10-20T22:09:28.010499Z"
        },
        "id": "6378b489"
      },
      "outputs": [],
      "source": [
        "'%(language)s has %(number)08d quote types.' %  {\"language\": \"Python\", \"number\": 2}"
      ]
    },
    {
      "cell_type": "markdown",
      "id": "c1c2f07c",
      "metadata": {
        "id": "c1c2f07c"
      },
      "source": [
        "## Новіший стиль"
      ]
    },
    {
      "cell_type": "code",
      "execution_count": null,
      "id": "46152ca6",
      "metadata": {
        "ExecuteTime": {
          "end_time": "2022-10-20T22:10:37.386791Z",
          "start_time": "2022-10-20T22:10:37.383114Z"
        },
        "id": "46152ca6"
      },
      "outputs": [],
      "source": [
        "'Hello, {1}, your age is {0}.'.format(name, age)"
      ]
    },
    {
      "cell_type": "markdown",
      "id": "3cb589ec",
      "metadata": {
        "ExecuteTime": {
          "end_time": "2022-10-20T13:09:25.228822Z",
          "start_time": "2022-10-20T13:09:25.216808Z"
        },
        "id": "3cb589ec"
      },
      "source": [
        "Для неіменованих аргументів працює наступним чином:"
      ]
    },
    {
      "cell_type": "markdown",
      "id": "3122a2af",
      "metadata": {
        "id": "3122a2af"
      },
      "source": [
        "![](https://drive.google.com/uc?export=view&id=1EYiFLfByrc42mEHc4Nk41M3aZ6-kWSVS)"
      ]
    },
    {
      "cell_type": "markdown",
      "id": "f888da33",
      "metadata": {
        "id": "f888da33"
      },
      "source": [
        "Форматувати числа з плаваючою комою можемо наступним чином:"
      ]
    },
    {
      "cell_type": "markdown",
      "id": "e7b2355d",
      "metadata": {
        "id": "e7b2355d"
      },
      "source": [
        "![](https://drive.google.com/uc?export=view&id=1fjQE8DimPSWFFyCeFz2LmN1gPVlGxEo3)"
      ]
    },
    {
      "cell_type": "code",
      "execution_count": null,
      "id": "e0e6f8e1",
      "metadata": {
        "ExecuteTime": {
          "end_time": "2022-10-20T22:12:16.031955Z",
          "start_time": "2022-10-20T22:12:16.026661Z"
        },
        "id": "e0e6f8e1"
      },
      "outputs": [],
      "source": [
        "# аргументи за замовченням\n",
        "print(\"Hello {}, your balance is {}.\".format(\"Adam\", 230.2346))\n",
        "\n",
        "# позиційні аргументи\n",
        "print(\"Hello {0}, your balance is {1}.\".format(\"Adam\", 230.2346))\n",
        "\n",
        "# іменовані аргументи\n",
        "print(\"Hello {name}, your balance is {blc}.\".format(name=\"Adam\", blc=230.2346))\n",
        "\n",
        "# змішані аршументи\n",
        "print(\"Hello {0}, your balance is {blc}.\".format(\"Adam\", blc=230.2346))"
      ]
    },
    {
      "cell_type": "markdown",
      "id": "4137273e",
      "metadata": {
        "ExecuteTime": {
          "end_time": "2022-10-20T13:13:47.537733Z",
          "start_time": "2022-10-20T13:13:47.531226Z"
        },
        "id": "4137273e"
      },
      "source": [
        "Форматування цифр:"
      ]
    },
    {
      "cell_type": "code",
      "execution_count": null,
      "id": "e862a5e7",
      "metadata": {
        "ExecuteTime": {
          "end_time": "2022-10-20T22:13:00.321906Z",
          "start_time": "2022-10-20T22:13:00.317812Z"
        },
        "id": "e862a5e7"
      },
      "outputs": [],
      "source": [
        "# integer arguments\n",
        "print(\"The number is: {:d}\".format(123))\n",
        "\n",
        "# float arguments\n",
        "print(\"The float number is: {:.2f}\".format(123.4567898))\n",
        "\n",
        "# octal, binary and hexadecimal format\n",
        "print(\"bin: {0:b}, oct: {0:o}, hex: {0:x}\".format(12))"
      ]
    },
    {
      "cell_type": "markdown",
      "id": "c5515c2a",
      "metadata": {
        "id": "c5515c2a"
      },
      "source": [
        "Можемо до форматування додати паддінг:"
      ]
    },
    {
      "cell_type": "code",
      "execution_count": null,
      "id": "432bf2fc",
      "metadata": {
        "ExecuteTime": {
          "end_time": "2022-10-20T22:15:27.971515Z",
          "start_time": "2022-10-20T22:15:27.965665Z"
        },
        "id": "432bf2fc"
      },
      "outputs": [],
      "source": [
        "# мінімальна ширина вікна для числа\n",
        "print(\"{:5d}\".format(12))\n",
        "\n",
        "# встановлення ширини вікна не спрацює, якщо передане число більше за встановлене обмеження\n",
        "print(\"{:2d}\".format(1234))\n",
        "\n",
        "# падінг для чисел з плаваючою комою\n",
        "print(\"{:8.3f}\".format(12.2346))\n",
        "\n",
        "# заповенння нулями для цілих чисел\n",
        "print(\"{:05d}\".format(12))\n",
        "print(\"{:05d}\".format(1112))\n",
        "print(\"{:05d}\".format(1))\n",
        "\n",
        "# заповенння нулями для чисел з плаваючою комою\n",
        "print(\"{:08.3f}\".format(12.2346))"
      ]
    },
    {
      "cell_type": "markdown",
      "id": "0963953b",
      "metadata": {
        "id": "0963953b"
      },
      "source": [
        "## Найновіший стиль - інтерполяція рядків\n",
        "Доступна в Python 3.6+"
      ]
    },
    {
      "cell_type": "code",
      "execution_count": null,
      "id": "4470ff81",
      "metadata": {
        "ExecuteTime": {
          "end_time": "2022-10-20T22:16:30.474350Z",
          "start_time": "2022-10-20T22:16:30.470152Z"
        },
        "id": "4470ff81"
      },
      "outputs": [],
      "source": [
        "f'Hello, {name}!'"
      ]
    },
    {
      "cell_type": "code",
      "execution_count": null,
      "id": "a7f5d702",
      "metadata": {
        "ExecuteTime": {
          "end_time": "2022-10-20T22:17:01.037508Z",
          "start_time": "2022-10-20T22:17:01.032008Z"
        },
        "id": "a7f5d702"
      },
      "outputs": [],
      "source": [
        "a = 5\n",
        "b = 10\n",
        "result = 2 * (a + b) / 128\n",
        "f'Five plus ten is {a + b} and not {result}.'"
      ]
    },
    {
      "cell_type": "markdown",
      "id": "54dfaf73",
      "metadata": {
        "id": "54dfaf73"
      },
      "source": [
        "Так само можемо додати форматування для чисел:"
      ]
    },
    {
      "cell_type": "code",
      "execution_count": null,
      "id": "85b28ef2",
      "metadata": {
        "ExecuteTime": {
          "end_time": "2022-10-20T22:17:30.203259Z",
          "start_time": "2022-10-20T22:17:30.195181Z"
        },
        "id": "85b28ef2"
      },
      "outputs": [],
      "source": [
        "f'Five plus ten is {a + b:5d} and not {2 * (a + b):.2f}.'"
      ]
    },
    {
      "cell_type": "markdown",
      "id": "6fecd4eb",
      "metadata": {
        "id": "6fecd4eb"
      },
      "source": [
        "\n",
        "# На цьому ми завершуємо наше інтро в Python\n",
        "\n",
        "Цих основ достатньо аби працювати з даними, але в Python є ще багато крутих фішок!   \n",
        "\n",
        "Перше джерело для їх пізнання - це офіційна документація: https://docs.python.org/3/tutorial/index.html  \n",
        "\n",
        "Також для глибшого освоєння Python рекомендую наступні книжки:\n",
        "\n",
        "1. Ерік Маттес \"Пришвидшений курс Python. Практичний, проєктно-орієнтований вступ до програмування\" - є в паперовому варіанті [українською](https://www.yakaboo.ua/ua/prishvidshenij-kurs-python.html?gclid=Cj0KCQjw48OaBhDWARIsAMd966BbY4d88QXaqHB_7Ho_bRMYFCsacaP2RtHUA1JrbvGfh825gD7daJ0aAhfmEALw_wcB),   \n",
        "    в електронному варіанті можна знайти англійською (Eric Matthes \"Python Crash Course\") - [PDF](https://drive.google.com/file/d/1pYe093khxPKuR_HSfkvi3uRCDPX4j1WB/view?usp=sharing) для ознайомлення.\n",
        "    До цієї книги доступні ресурси на [гітхабі](https://github.com/ehmatthes/pcc).\n",
        "\n",
        "2. Марк Лутц \"Вивчаємо Python\" - на жаль, немає перекладу на українську, але книга крута, пропоную вам оглянути\n",
        "[PDF](https://drive.google.com/file/d/1jokyD_girqnc5rCWC2T0RZK2T3G6numm/view?usp=sharing) версію англійською.\n",
        "\n",
        "Також багато корисного з розбивкою по темам можна знайти на цьому сайті:\n",
        "https://www.geeksforgeeks.org/python-programming-language/?ref=shm"
      ]
    },
    {
      "cell_type": "code",
      "source": [],
      "metadata": {
        "id": "zFzlafQDKbny"
      },
      "id": "zFzlafQDKbny",
      "execution_count": null,
      "outputs": []
    }
  ],
  "metadata": {
    "kernelspec": {
      "display_name": "Python 3 (ipykernel)",
      "language": "python",
      "name": "python3"
    },
    "language_info": {
      "codemirror_mode": {
        "name": "ipython",
        "version": 3
      },
      "file_extension": ".py",
      "mimetype": "text/x-python",
      "name": "python",
      "nbconvert_exporter": "python",
      "pygments_lexer": "ipython3",
      "version": "3.10.4"
    },
    "toc": {
      "base_numbering": 1,
      "nav_menu": {},
      "number_sections": true,
      "sideBar": true,
      "skip_h1_title": false,
      "title_cell": "Table of Contents",
      "title_sidebar": "Contents",
      "toc_cell": false,
      "toc_position": {},
      "toc_section_display": true,
      "toc_window_display": true
    },
    "colab": {
      "provenance": [],
      "toc_visible": true,
      "include_colab_link": true
    }
  },
  "nbformat": 4,
  "nbformat_minor": 5
}